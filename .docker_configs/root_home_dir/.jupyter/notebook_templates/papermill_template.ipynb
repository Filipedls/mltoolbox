{
 "cells": [
  {
   "cell_type": "markdown",
   "metadata": {},
   "source": [
    "### This is a papermill template notebook\n",
    "\n",
    "Execute via the Python API:\n",
    "```\n",
    "import papermill as pm\n",
    "\n",
    "pm.execute_notebook(\n",
    "   'path/to/input.ipynb',\n",
    "   'path/to/output.ipynb',\n",
    "   parameters = dict(msg='hello')\n",
    ")\n",
    "```\n",
    "\n",
    "Or terminal:\n",
    "`papermill local/input.ipynb local/output.ipynb -p msg \"hello\"`"
   ]
  },
  {
   "cell_type": "code",
   "execution_count": null,
   "metadata": {
    "tags": [
     "parameters"
    ]
   },
   "outputs": [],
   "source": [
    "msg = \"default msg\""
   ]
  },
  {
   "cell_type": "code",
   "execution_count": null,
   "metadata": {},
   "outputs": [],
   "source": [
    "print(\"The message is:\",msg)"
   ]
  }
 ],
 "metadata": {
  "celltoolbar": "Tags",
  "kernelspec": {
   "display_name": "Python 3",
   "language": "python",
   "name": "python3"
  },
  "language_info": {
   "codemirror_mode": {
    "name": "ipython",
    "version": 3
   },
   "file_extension": ".py",
   "mimetype": "text/x-python",
   "name": "python",
   "nbconvert_exporter": "python",
   "pygments_lexer": "ipython3",
   "version": "3.6.8"
  }
 },
 "nbformat": 4,
 "nbformat_minor": 2
}
